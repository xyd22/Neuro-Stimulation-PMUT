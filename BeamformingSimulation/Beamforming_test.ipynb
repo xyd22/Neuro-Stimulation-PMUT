{
 "cells": [
  {
   "cell_type": "code",
   "execution_count": 4,
   "id": "e36c91e7",
   "metadata": {},
   "outputs": [
    {
     "name": "stdout",
     "output_type": "stream",
     "text": [
      "\n",
      "Combined Delay Hex Values:\n",
      "['0x00000000', '0x00000000', '0x00000000', '0x00000000', '0x00000000', '0x00000000', '0x00000000', '0x00000000']\n"
     ]
    }
   ],
   "source": [
    "import numpy as np\n",
    "import matplotlib.pyplot as plt\n",
    "import cvxpy as cp\n",
    "from utils import convex_optimization_beamforming, post_process_weights, print_weights_info, combine_hex_values\n",
    "\n",
    "# Constants\n",
    "num_elements = 32  # Number of elements producing sound\n",
    "temperature = 21  # in Celsius\n",
    "frequency = 1/(22*2*4*10**-9)  # Frequency in Hz\n",
    "\n",
    "# Chip specific constants\n",
    "beamformer_frequency = 250e6  # Beamformer frequency in Hz\n",
    "discretized_phase_shift = 2 * np.pi / 44  # Discretized phase shift increment\n",
    "discrete_amplitudes = [0, 0.5, 1]  # Discrete amplitude control\n",
    "\n",
    "speed_of_sound = 1500  # Speed of sound in water (approximate)\n",
    "wavelength = speed_of_sound / frequency  # Wavelength in meters\n",
    "d = 110e-6  # Element spacing in meters (110 µm)\n",
    "\n",
    "# FAN BP PMUT2: Tx16 Rx1(11I J10)\n",
    "# Antenna array setup\n",
    "element_positions = [-0.00182, -0.00171, -0.0016, -0.00149, -0.00138, -0.00127, -0.00116, -0.00105,\n",
    "                     -0.000935, -0.000825, -0.000715, -0.000605, -0.000495, -0.000385, -0.000275, -0.000165,\n",
    "                     0.000165,  0.000275,  0.000385,  0.000495,  0.000605,  0.000715,  0.000825,  0.000935,\n",
    "                     0.00105,  0.00116,  0.00127,  0.00138,  0.00149,  0.0016,  0.00171,  0.00182]\n",
    "\n",
    "# Desired signal direction in degrees\n",
    "theta_s = 0  # Desired signal direction\n",
    "theta_i = []  # No interference directions in this example\n",
    "interference_power = [1] * len(theta_i)  # Interference power for each direction\n",
    "\n",
    "# Beamforming weights\n",
    "w_opt = convex_optimization_beamforming(theta_s, element_positions, wavelength, theta_i, interference_power=interference_power)\n",
    "\n",
    "# Post-process the weights\n",
    "w_quantized, quantized_magnitudes, quantized_phases = post_process_weights(w_opt, discretized_phase_shift, discrete_amplitudes)\n",
    "\n",
    "# Remove odd nodes from the list\n",
    "odd_indices = [i for i in range(len(w_quantized)) if i % 2 != 0]\n",
    "even_w_quantized = np.delete(w_quantized, odd_indices)\n",
    "even_quantized_magnitudes = np.delete(quantized_magnitudes, odd_indices)\n",
    "even_quantized_phases = np.delete(quantized_phases, odd_indices)\n",
    "\n",
    "# Generate hex values for even nodes only\n",
    "hex_values_quantized = print_weights_info(even_w_quantized, even_quantized_magnitudes, even_quantized_phases, discretized_phase_shift)\n",
    "\n",
    "# Combine hex values into 8-digit hex numbers\n",
    "combined_hex_values = combine_hex_values(hex_values_quantized)\n",
    "\n",
    "# Output the array of hex delay values\n",
    "print(\"\\nCombined Delay Hex Values:\")\n",
    "print(combined_hex_values)"
   ]
  }
 ],
 "metadata": {
  "kernelspec": {
   "display_name": "pmut",
   "language": "python",
   "name": "python3"
  },
  "language_info": {
   "codemirror_mode": {
    "name": "ipython",
    "version": 3
   },
   "file_extension": ".py",
   "mimetype": "text/x-python",
   "name": "python",
   "nbconvert_exporter": "python",
   "pygments_lexer": "ipython3",
   "version": "3.10.14"
  }
 },
 "nbformat": 4,
 "nbformat_minor": 5
}
